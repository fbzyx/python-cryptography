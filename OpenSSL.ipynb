{
 "cells": [
  {
   "cell_type": "code",
   "execution_count": 10,
   "metadata": {},
   "outputs": [
    {
     "name": "stdout",
     "output_type": "stream",
     "text": [
      "Requirement already satisfied: cryptography in /Users/franz/opt/anaconda3/lib/python3.7/site-packages (2.7)\n",
      "Requirement already satisfied: cffi!=1.11.3,>=1.8 in /Users/franz/opt/anaconda3/lib/python3.7/site-packages (from cryptography) (1.12.3)\n",
      "Requirement already satisfied: six>=1.4.1 in /Users/franz/opt/anaconda3/lib/python3.7/site-packages (from cryptography) (1.12.0)\n",
      "Requirement already satisfied: asn1crypto>=0.21.0 in /Users/franz/opt/anaconda3/lib/python3.7/site-packages (from cryptography) (1.0.1)\n",
      "Requirement already satisfied: pycparser in /Users/franz/opt/anaconda3/lib/python3.7/site-packages (from cffi!=1.11.3,>=1.8->cryptography) (2.19)\n"
     ]
    }
   ],
   "source": [
    "#!pip install cryptography"
   ]
  },
  {
   "cell_type": "markdown",
   "metadata": {},
   "source": [
    "## Overview\n",
    "\n",
    "This notebook contains a collection of examples of how to work with OpenSSL in Python. My purpose is to give a complete example of how to generate a Certificate Authority, create a Certificate Recovation List, create certificates and keys for clients and how to revoke these certificates.\n",
    "\n",
    "openssl ca -gencrl -out ca.crl -cert ca.crt -keyfile ca.key"
   ]
  },
  {
   "cell_type": "markdown",
   "metadata": {},
   "source": [
    "### Imports"
   ]
  },
  {
   "cell_type": "code",
   "execution_count": 61,
   "metadata": {},
   "outputs": [],
   "source": [
    "from cryptography import x509\n",
    "from cryptography.hazmat.backends import default_backend\n",
    "from cryptography.x509.oid import NameOID\n",
    "from cryptography.hazmat.primitives import hashes\n",
    "from cryptography.hazmat.primitives.asymmetric import rsa\n",
    "from cryptography.hazmat.primitives.serialization import (Encoding, PrivateFormat, NoEncryption)\n",
    "\n",
    "from cryptography.hazmat.primitives import serialization\n",
    "import uuid\n",
    "import datetime"
   ]
  },
  {
   "cell_type": "markdown",
   "metadata": {},
   "source": [
    "### 1. Generate Root CA\n",
    "\n",
    "encyption password: test\n",
    "\n",
    "#### OpenSSL command\n",
    "\n",
    "openssl genrsa -des3 -out ca.key 2048\n",
    "\n",
    "openssl req -new -x509 -outform PEM -days 3650 -key ca.key -out ca.crt"
   ]
  },
  {
   "cell_type": "code",
   "execution_count": 87,
   "metadata": {},
   "outputs": [
    {
     "name": "stdout",
     "output_type": "stream",
     "text": [
      "2020-11-10 10:52:27\n",
      "2020-11-17 11:52:27\n"
     ]
    }
   ],
   "source": [
    "\n",
    "private_key = rsa.generate_private_key(\n",
    "    public_exponent=65537,\n",
    "    key_size=2048,\n",
    "    backend=default_backend()\n",
    ")\n",
    "public_key = private_key.public_key()\n",
    "builder = x509.CertificateBuilder()\n",
    "builder = builder.subject_name(x509.Name([\n",
    "    x509.NameAttribute(NameOID.COMMON_NAME, u'Test Root CA')\n",
    "]))\n",
    "builder = builder.issuer_name(x509.Name([\n",
    "    x509.NameAttribute(NameOID.COMMON_NAME, u'Test Root CA'),\n",
    "]))\n",
    "builder = builder.not_valid_before(datetime.datetime.now()-datetime.timedelta(hours=1))\n",
    "builder = builder.not_valid_after(datetime.datetime.now()+datetime.timedelta(7))\n",
    "builder = builder.serial_number(int(uuid.uuid4()))\n",
    "builder = builder.public_key(public_key)\n",
    "builder = builder.add_extension(\n",
    "    x509.BasicConstraints(ca=True, path_length=None), critical=True,\n",
    ")\n",
    "certificate = builder.sign(\n",
    "    private_key=private_key, algorithm=hashes.SHA256(),\n",
    "    backend=default_backend()\n",
    ")\n",
    "\n",
    "#print(isinstance(certificate, x509.Certificate))\n",
    "\n",
    "with open(\"openssl/ca.key\", \"wb\") as f:\n",
    "    f.write(private_key.private_bytes(Encoding.PEM, PrivateFormat.TraditionalOpenSSL,\\\n",
    "                                      encryption_algorithm=serialization.BestAvailableEncryption(b\"test\")))\n",
    "\n",
    "with open(\"openssl/ca.crt\", \"wb\") as f:\n",
    "    f.write(certificate.public_bytes(\n",
    "        encoding=serialization.Encoding.PEM,\n",
    "    ))\n",
    "    \n",
    "print(certificate.not_valid_before)\n",
    "print(certificate.not_valid_after)"
   ]
  },
  {
   "cell_type": "markdown",
   "metadata": {},
   "source": [
    "### 2. Generate empty CRL\n",
    "\n",
    "#### OpenSSL command\n",
    "\n",
    "openssl ca -gencrl -out ca.crl -cert ca.crt -keyfile ca.key"
   ]
  },
  {
   "cell_type": "code",
   "execution_count": 96,
   "metadata": {},
   "outputs": [],
   "source": [
    "\n",
    "pem_cert = open(\"openssl/ca.crt\",\"rb\").read()\n",
    "ca_crt = x509.load_pem_x509_certificate(pem_cert, default_backend())\n",
    "pem_key = open(\"openssl/ca.key\",\"rb\").read()\n",
    "ca_key = serialization.load_pem_private_key(pem_key, password=b\"test\", backend=default_backend())\n",
    "\n",
    "\n",
    "builder = x509.CertificateRevocationListBuilder()\n",
    "#builder = builder.add_extension(x509.CRLNumber(1000), critical=False)\n",
    "builder = builder.last_update(datetime.datetime.now()-datetime.timedelta(hours=1))\n",
    "builder = builder.next_update(datetime.datetime.now() + datetime.timedelta(1) - datetime.timedelta(hours=1))\n",
    "builder = builder.issuer_name(ca_crt.issuer)\n",
    "\n",
    "cert_revocation_list = builder.sign(private_key=ca_key,algorithm=hashes.SHA256(),backend=default_backend())\n",
    "\n",
    "with open(\"openssl/ca.crl\",\"wb\") as f:\n",
    "    f.write(cert_revocation_list.public_bytes(serialization.Encoding.PEM))"
   ]
  },
  {
   "cell_type": "markdown",
   "metadata": {},
   "source": [
    "### 3. Server\n",
    "\n",
    "#### OpenSSL command\n",
    "openssl genrsa -out server.key 2048\n",
    "\n",
    "openssl req -new -out server.csr -key server.key\n",
    "\n",
    "openssl x509 -req -in server.csr -CA ca.crt -CAkey ca.key -CAcreateserial -outform PEM -out server.crt -days 720"
   ]
  },
  {
   "cell_type": "code",
   "execution_count": 89,
   "metadata": {},
   "outputs": [
    {
     "name": "stdout",
     "output_type": "stream",
     "text": [
      "<Name(CN=server)>\n",
      "<Name(CN=Test Root CA)>\n"
     ]
    }
   ],
   "source": [
    "\n",
    "private_key = rsa.generate_private_key(public_exponent=65537, key_size=2048, backend=default_backend())\n",
    "\n",
    "builder = x509.CertificateSigningRequestBuilder()\n",
    "builder = builder.subject_name(x509.Name([\n",
    "    x509.NameAttribute(NameOID.COMMON_NAME, u\"server\")\n",
    "]))\n",
    "\n",
    "builder = builder.add_extension(x509.BasicConstraints(ca=False, path_length=None), critical=True,)\n",
    "\n",
    "request = builder.sign(private_key, hashes.SHA256(), default_backend())\n",
    "\n",
    "with open(\"openssl/server.csr\",\"wb\") as f:\n",
    "    f.write(request.public_bytes(Encoding.PEM))\n",
    "\n",
    "with open(\"openssl/server.key\",\"wb\") as f:\n",
    "    f.write(private_key.private_bytes(Encoding.PEM, PrivateFormat.TraditionalOpenSSL, NoEncryption()))\n",
    "\n",
    "\n",
    "pem_csr = open(\"openssl/server.csr\",\"rb\").read()\n",
    "csr = x509.load_pem_x509_csr(pem_csr, default_backend())\n",
    "\n",
    "pem_cert = open(\"openssl/ca.crt\",\"rb\").read()\n",
    "ca = x509.load_pem_x509_certificate(pem_cert, default_backend())\n",
    "pem_key = open(\"openssl/ca.key\",\"rb\").read()\n",
    "ca_key = serialization.load_pem_private_key(pem_key, password=b\"test\", backend=default_backend())\n",
    "\n",
    "#print(csr.subject)\n",
    "\n",
    "builder = x509.CertificateBuilder()\n",
    "builder = builder.subject_name(csr.subject)\n",
    "builder = builder.issuer_name(ca.subject)\n",
    "\n",
    "print(csr.subject)\n",
    "\n",
    "#builder = builder.not_valid_before(datetime.datetime.now())\n",
    "builder = builder.not_valid_before(datetime.datetime.now()-datetime.timedelta(hours=1))\n",
    "builder = builder.not_valid_after(datetime.datetime.now()+datetime.timedelta(7)) # days\n",
    "builder = builder.public_key(csr.public_key())\n",
    "builder = builder.serial_number(int(uuid.uuid4()))\n",
    "\n",
    "for ext in csr.extensions:\n",
    "    builder = builder.add_extension(ext.value, ext.critical)\n",
    "    \n",
    "certificate = builder.sign(private_key=ca_key, algorithm=hashes.SHA256(),backend=default_backend())\n",
    "\n",
    "with open(\"openssl/server.crt\",\"wb\") as f:\n",
    "    f.write(certificate.public_bytes(serialization.Encoding.PEM))"
   ]
  },
  {
   "cell_type": "markdown",
   "metadata": {},
   "source": [
    "### 4. Client 1\n",
    "\n",
    "#### OpenSSL command\n",
    "openssl genrsa -out client.key 2048\n",
    "\n",
    "openssl req -new -out client.csr -key client.key\n",
    "\n",
    "openssl x509 -req -in client.csr -CA ca.crt -CAkey ca.key -CAcreateserial -out client.crt -days 720"
   ]
  },
  {
   "cell_type": "code",
   "execution_count": 90,
   "metadata": {},
   "outputs": [
    {
     "name": "stdout",
     "output_type": "stream",
     "text": [
      "<Name(CN=client 1)>\n",
      "183256968768535528365450232687811955506\n"
     ]
    }
   ],
   "source": [
    "private_key = rsa.generate_private_key(public_exponent=65537, key_size=2048, backend=default_backend())\n",
    "\n",
    "builder = x509.CertificateSigningRequestBuilder()\n",
    "builder = builder.subject_name(x509.Name([\n",
    "    x509.NameAttribute(NameOID.COMMON_NAME, u\"client 1\")\n",
    "]))\n",
    "\n",
    "builder = builder.add_extension(x509.BasicConstraints(ca=False, path_length=None), critical=True,)\n",
    "\n",
    "request = builder.sign(private_key, hashes.SHA256(), default_backend())\n",
    "\n",
    "with open(\"openssl/client1.csr\",\"wb\") as f:\n",
    "    f.write(request.public_bytes(Encoding.PEM))\n",
    "\n",
    "with open(\"openssl/client1.key\",\"wb\") as f:\n",
    "    f.write(private_key.private_bytes(Encoding.PEM, PrivateFormat.TraditionalOpenSSL, NoEncryption()))\n",
    "\n",
    "pem_csr = open(\"openssl/client1.csr\",\"rb\").read()\n",
    "csr = x509.load_pem_x509_csr(pem_csr, default_backend())\n",
    "\n",
    "pem_cert = open(\"openssl/ca.crt\",\"rb\").read()\n",
    "ca = x509.load_pem_x509_certificate(pem_cert, default_backend())\n",
    "pem_key = open(\"openssl/ca.key\",\"rb\").read()\n",
    "ca_key = serialization.load_pem_private_key(pem_key, password=b\"test\", backend=default_backend())\n",
    "\n",
    "print(csr.subject)\n",
    "\n",
    "builder = x509.CertificateBuilder()\n",
    "builder = builder.subject_name(csr.subject)\n",
    "builder = builder.issuer_name(ca.subject)\n",
    "#builder = builder.not_valid_before(datetime.datetime.now())\n",
    "builder = builder.not_valid_before(datetime.datetime.now()-datetime.timedelta(hours=1))\n",
    "builder = builder.not_valid_after(datetime.datetime.now()+datetime.timedelta(7)) # days\n",
    "builder = builder.public_key(csr.public_key())\n",
    "builder = builder.serial_number(int(uuid.uuid4()))\n",
    "\n",
    "for ext in csr.extensions:\n",
    "    builder = builder.add_extension(ext.value, ext.critical)\n",
    "    \n",
    "certificate = builder.sign(private_key=ca_key, algorithm=hashes.SHA256(),backend=default_backend())\n",
    "\n",
    "print(certificate.serial_number)\n",
    "\n",
    "with open(\"openssl/client1.crt\",\"wb\") as f:\n",
    "    f.write(certificate.public_bytes(serialization.Encoding.PEM))"
   ]
  },
  {
   "cell_type": "markdown",
   "metadata": {},
   "source": [
    "### 5. Client 2"
   ]
  },
  {
   "cell_type": "code",
   "execution_count": 91,
   "metadata": {},
   "outputs": [
    {
     "name": "stdout",
     "output_type": "stream",
     "text": [
      "<Name(CN=client 2)>\n",
      "32196063756276690598583279125539955178\n"
     ]
    }
   ],
   "source": [
    "private_key = rsa.generate_private_key(public_exponent=65537, key_size=2048, backend=default_backend())\n",
    "\n",
    "builder = x509.CertificateSigningRequestBuilder()\n",
    "builder = builder.subject_name(x509.Name([\n",
    "    x509.NameAttribute(NameOID.COMMON_NAME, u\"client 2\")\n",
    "]))\n",
    "\n",
    "builder = builder.add_extension(x509.BasicConstraints(ca=False, path_length=None), critical=True,)\n",
    "\n",
    "request = builder.sign(private_key, hashes.SHA256(), default_backend())\n",
    "\n",
    "with open(\"openssl/client2.csr\",\"wb\") as f:\n",
    "    f.write(request.public_bytes(Encoding.PEM))\n",
    "\n",
    "with open(\"openssl/client2.key\",\"wb\") as f:\n",
    "    f.write(private_key.private_bytes(Encoding.PEM, PrivateFormat.TraditionalOpenSSL, NoEncryption()))\n",
    "    \n",
    "pem_csr = open(\"openssl/client2.csr\",\"rb\").read()\n",
    "csr = x509.load_pem_x509_csr(pem_csr, default_backend())\n",
    "\n",
    "pem_cert = open(\"openssl/ca.crt\",\"rb\").read()\n",
    "ca = x509.load_pem_x509_certificate(pem_cert, default_backend())\n",
    "pem_key = open(\"openssl/ca.key\",\"rb\").read()\n",
    "ca_key = serialization.load_pem_private_key(pem_key, password=b\"test\", backend=default_backend())\n",
    "\n",
    "print(csr.subject)\n",
    "\n",
    "builder = x509.CertificateBuilder()\n",
    "builder = builder.subject_name(csr.subject)\n",
    "builder = builder.issuer_name(ca.subject)\n",
    "#builder = builder.not_valid_before(datetime.datetime.now())\n",
    "builder = builder.not_valid_before(datetime.datetime.now()-datetime.timedelta(hours=1))\n",
    "builder = builder.not_valid_after(datetime.datetime.now()+datetime.timedelta(7)) # days\n",
    "builder = builder.public_key(csr.public_key())\n",
    "builder = builder.serial_number(int(uuid.uuid4()))\n",
    "\n",
    "for ext in csr.extensions:\n",
    "    builder = builder.add_extension(ext.value, ext.critical)\n",
    "    \n",
    "certificate = builder.sign(private_key=ca_key, algorithm=hashes.SHA256(),backend=default_backend())\n",
    "\n",
    "print(certificate.serial_number)\n",
    "\n",
    "with open(\"openssl/client2.crt\",\"wb\") as f:\n",
    "    f.write(certificate.public_bytes(serialization.Encoding.PEM))"
   ]
  },
  {
   "cell_type": "markdown",
   "metadata": {},
   "source": [
    "### 5. Client 3"
   ]
  },
  {
   "cell_type": "code",
   "execution_count": 92,
   "metadata": {},
   "outputs": [
    {
     "name": "stdout",
     "output_type": "stream",
     "text": [
      "<Name(CN=client 3)>\n",
      "315636500865185387148620898102571465908\n"
     ]
    }
   ],
   "source": [
    "private_key = rsa.generate_private_key(public_exponent=65537, key_size=2048, backend=default_backend())\n",
    "\n",
    "builder = x509.CertificateSigningRequestBuilder()\n",
    "builder = builder.subject_name(x509.Name([\n",
    "    x509.NameAttribute(NameOID.COMMON_NAME, u\"client 3\")\n",
    "]))\n",
    "\n",
    "builder = builder.add_extension(x509.BasicConstraints(ca=False, path_length=None), critical=True,)\n",
    "\n",
    "request = builder.sign(private_key, hashes.SHA256(), default_backend())\n",
    "\n",
    "with open(\"openssl/client3.csr\",\"wb\") as f:\n",
    "    f.write(request.public_bytes(Encoding.PEM))\n",
    "\n",
    "with open(\"openssl/client3.key\",\"wb\") as f:\n",
    "    f.write(private_key.private_bytes(Encoding.PEM, PrivateFormat.TraditionalOpenSSL, NoEncryption()))\n",
    "\n",
    "pem_csr = open(\"openssl/client3.csr\",\"rb\").read()\n",
    "csr = x509.load_pem_x509_csr(pem_csr, default_backend())\n",
    "\n",
    "pem_cert = open(\"openssl/ca.crt\",\"rb\").read()\n",
    "ca = x509.load_pem_x509_certificate(pem_cert, default_backend())\n",
    "pem_key = open(\"openssl/ca.key\",\"rb\").read()\n",
    "ca_key = serialization.load_pem_private_key(pem_key, password=b\"test\", backend=default_backend())\n",
    "\n",
    "print(csr.subject)\n",
    "\n",
    "builder = x509.CertificateBuilder()\n",
    "builder = builder.subject_name(csr.subject)\n",
    "builder = builder.issuer_name(ca.subject)\n",
    "#builder = builder.not_valid_before(datetime.datetime.now())\n",
    "builder = builder.not_valid_before(datetime.datetime.now()-datetime.timedelta(hours=1))\n",
    "builder = builder.not_valid_after(datetime.datetime.now()+datetime.timedelta(7)) # days\n",
    "builder = builder.public_key(csr.public_key())\n",
    "builder = builder.serial_number(int(uuid.uuid4()))\n",
    "\n",
    "for ext in csr.extensions:\n",
    "    builder = builder.add_extension(ext.value, ext.critical)\n",
    "    \n",
    "certificate = builder.sign(private_key=ca_key, algorithm=hashes.SHA256(),backend=default_backend())\n",
    "\n",
    "print(certificate.serial_number)\n",
    "\n",
    "with open(\"openssl/client3.crt\",\"wb\") as f:\n",
    "    f.write(certificate.public_bytes(serialization.Encoding.PEM))"
   ]
  },
  {
   "cell_type": "markdown",
   "metadata": {},
   "source": [
    "###  6. Revocation list. Revoke a certificate\n",
    "\n",
    "#### OpenSSL command\n",
    "openssl ca -revoke client2.crt -cert ca.crt -keyfile ca.key\n",
    "\n",
    "openssl ca -gencrl -out ca.crl -cert ca.crt -keyfile ca.key"
   ]
  },
  {
   "cell_type": "code",
   "execution_count": 97,
   "metadata": {},
   "outputs": [],
   "source": [
    "\n",
    "# cert you want to revoke\n",
    "cert_to_revoke_data = open(\"openssl/client1.crt\",\"rb\").read()\n",
    "cert_to_revoke = x509.load_pem_x509_certificate(cert_to_revoke_data, backend=default_backend())\n",
    "\n",
    "pem_cert = open(\"openssl/ca.crt\",\"rb\").read()\n",
    "ca_crt = x509.load_pem_x509_certificate(pem_cert, default_backend())\n",
    "pem_key = open(\"openssl/ca.key\",\"rb\").read()\n",
    "ca_key = serialization.load_pem_private_key(pem_key, password=b\"test\", backend=default_backend())\n",
    "\n",
    "# load crl\n",
    "pem_crl_data = open(\"openssl/ca.crl\",\"rb\").read()\n",
    "crl = x509.load_pem_x509_crl(pem_crl_data, backend=default_backend())\n",
    "\n",
    "# generate a new crl object\n",
    "builder = x509.CertificateRevocationListBuilder()\n",
    "builder = builder.issuer_name(crl.issuer)\n",
    "builder = builder.last_update(crl.last_update)\n",
    "builder = builder.next_update(datetime.datetime.now() + datetime.timedelta(1, 0, 0))\n",
    "\n",
    "# add crl certificates from file to the new crl object\n",
    "for i in range(0,len(crl)):    \n",
    "    builder = builder.add_revoked_certificate(crl[i])\n",
    "\n",
    "# see if the cert to be revokek already in the list    \n",
    "ret = crl.get_revoked_certificate_by_serial_number(cert_to_revoke.serial_number)\n",
    "\n",
    "# if not, then add new revoked cert\n",
    "if  not isinstance(ret, x509.RevokedCertificate):\n",
    "    \n",
    "    revoked_cert = x509.RevokedCertificateBuilder()\\\n",
    "    .serial_number(cert_to_revoke.serial_number)\\\n",
    "    .revocation_date(datetime.datetime.now()).build(backend=default_backend())\n",
    "    \n",
    "    builder = builder.add_revoked_certificate(revoked_cert)\n",
    "\n",
    "# sign and save to new crl file\n",
    "cert_revocation_list = builder.sign(private_key=ca_key,algorithm=hashes.SHA256(),backend=default_backend())\n",
    "\n",
    "with open(\"openssl/ca.crl\",\"wb\") as f:\n",
    "    f.write(cert_revocation_list.public_bytes(serialization.Encoding.PEM))\n",
    "    \n",
    "    "
   ]
  },
  {
   "cell_type": "markdown",
   "metadata": {},
   "source": [
    "### Check certificates info"
   ]
  },
  {
   "cell_type": "code",
   "execution_count": 27,
   "metadata": {},
   "outputs": [
    {
     "name": "stdout",
     "output_type": "stream",
     "text": [
      "Test Root CA\n",
      "2020-11-08 17:50:18\n",
      "2020-11-15 18:50:18\n",
      "client 2\n",
      "2020-11-08 17:48:26\n",
      "2020-11-15 18:48:26\n",
      "client 1\n",
      "2020-11-08 17:48:24\n",
      "2020-11-15 18:48:24\n"
     ]
    }
   ],
   "source": [
    "from cryptography import x509\n",
    "from cryptography.hazmat.backends import default_backend\n",
    "from cryptography.x509.oid import NameOID\n",
    "\n",
    "pem_cert = open(\"openssl/ca.crt\",\"rb\").read()\n",
    "cert = x509.load_pem_x509_certificate(pem_cert, default_backend())\n",
    "\n",
    "print(cert.subject.get_attributes_for_oid(NameOID.COMMON_NAME)[0].value)\n",
    "print(cert.not_valid_before)\n",
    "print(cert.not_valid_after)\n",
    "\n",
    "client_cert_data = open(\"openssl/client2.crt\",\"rb\").read()\n",
    "client_cert = x509.load_pem_x509_certificate(client_cert_data, backend=default_backend())\n",
    "\n",
    "print(client_cert.subject.get_attributes_for_oid(NameOID.COMMON_NAME)[0].value)\n",
    "print(client_cert.not_valid_before)\n",
    "print(client_cert.not_valid_after)\n",
    "\n",
    "client_cert_data = open(\"openssl/client1.crt\",\"rb\").read()\n",
    "client_cert = x509.load_pem_x509_certificate(client_cert_data, backend=default_backend())\n",
    "\n",
    "print(client_cert.subject.get_attributes_for_oid(NameOID.COMMON_NAME)[0].value)\n",
    "print(client_cert.not_valid_before)\n",
    "print(client_cert.not_valid_after)"
   ]
  }
 ],
 "metadata": {
  "kernelspec": {
   "display_name": "Python 3",
   "language": "python",
   "name": "python3"
  },
  "language_info": {
   "codemirror_mode": {
    "name": "ipython",
    "version": 3
   },
   "file_extension": ".py",
   "mimetype": "text/x-python",
   "name": "python",
   "nbconvert_exporter": "python",
   "pygments_lexer": "ipython3",
   "version": "3.7.4"
  }
 },
 "nbformat": 4,
 "nbformat_minor": 2
}
